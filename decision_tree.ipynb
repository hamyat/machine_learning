{
  "nbformat": 4,
  "nbformat_minor": 0,
  "metadata": {
    "colab": {
      "provenance": [],
      "authorship_tag": "ABX9TyM+3SQsQErr1fEJxUkV6oov",
      "include_colab_link": true
    },
    "kernelspec": {
      "name": "python3",
      "display_name": "Python 3"
    },
    "language_info": {
      "name": "python"
    }
  },
  "cells": [
    {
      "cell_type": "markdown",
      "metadata": {
        "id": "view-in-github",
        "colab_type": "text"
      },
      "source": [
        "<a href=\"https://colab.research.google.com/github/hamyat/machine_learning/blob/main/decision_tree.ipynb\" target=\"_parent\"><img src=\"https://colab.research.google.com/assets/colab-badge.svg\" alt=\"Open In Colab\"/></a>"
      ]
    },
    {
      "cell_type": "markdown",
      "metadata": {
        "id": "b-sQIqZlhI_z"
      },
      "source": [
        "**LATIHAN DECISION TREE**\n",
        "\n",
        "---\n",
        "\n",
        "\n",
        "by @hamyat\n"
      ]
    },
    {
      "cell_type": "code",
      "metadata": {
        "colab": {
          "base_uri": "https://localhost:8080/"
        },
        "id": "TcqgtTn0g_ca",
        "outputId": "08dd00e2-3a8a-40f6-fbdc-266217bce61e"
      },
      "source": [
        "# konversi program data science ke versi google colab\n",
        "\n",
        "# akses ke google drive kita\n",
        "from google.colab import drive\n",
        "drive.mount('/content/gdrive')"
      ],
      "execution_count": null,
      "outputs": [
        {
          "output_type": "stream",
          "name": "stdout",
          "text": [
            "Mounted at /content/gdrive\n"
          ]
        }
      ]
    },
    {
      "cell_type": "code",
      "metadata": {
        "colab": {
          "base_uri": "https://localhost:8080/"
        },
        "id": "8oCTXMGykTEh",
        "outputId": "9d64cb16-af52-466a-f3e9-b3c72188f9e0"
      },
      "source": [
        "import pandas as pd\n",
        "df1 = pd.read_csv('/content/gdrive/My Drive/dataset/decisiontree.csv') \n",
        "encoding = {\"mesin\": {\"bensin\": 0, \"diesel\": 1}, \"penggerak\": {\"depan\": 0, \"belakang\": 1}}\n",
        "df1.replace(encoding, inplace=True)\n",
        "print(df1)"
      ],
      "execution_count": null,
      "outputs": [
        {
          "output_type": "stream",
          "name": "stdout",
          "text": [
            "    ID  mesin  bangku  penggerak    label\n",
            "0    1      0       4          0    sedan\n",
            "1    2      0       2          0    sedan\n",
            "2    3      0       8          1  minibus\n",
            "3    4      1       6          0  minibus\n",
            "4    5      0       5          1  minibus\n",
            "5    6      1       8          1  minibus\n",
            "6    7      1       8          1  minibus\n",
            "7    8      0       4          0    sedan\n",
            "8    9      1       7          1  minibus\n",
            "9   10      0       4          0    sedan\n",
            "10  11      0       2          0    sedan\n",
            "11  12      1       6          1  minibus\n",
            "12  13      1       8          0  minibus\n",
            "13  14      0       4          0    sedan\n",
            "14  15      1       2          0    sedan\n",
            "15  16      0       4          0    sedan\n",
            "16  17      0       8          1  minibus\n",
            "17  18      0       4          0    sedan\n",
            "18  19      1       8          1  minibus\n",
            "19  20      1       8          1  minibus\n",
            "20  21      0       4          0    sedan\n",
            "21  22      0       4          0  minibus\n",
            "22  23      1       8          1  minibus\n",
            "23  24      0       4          0    sedan\n",
            "24  25      0       5          1  minibus\n",
            "25  26      0       4          0  minibus\n",
            "26  27      1       8          1  minibus\n",
            "27  28      0       4          0    sedan\n",
            "28  29      0       7          1  minibus\n",
            "29  30      0       4          0    sedan\n",
            "30  31      0       4          0    sedan\n",
            "31  32      0       2          0    sedan\n",
            "32  33      0       8          1  minibus\n",
            "33  34      1       6          0  minibus\n",
            "34  35      0       5          1  minibus\n",
            "35  36      1       8          1  minibus\n",
            "36  37      1       4          1  minibus\n",
            "37  38      0       4          0    sedan\n",
            "38  39      1       5          1  minibus\n",
            "39  40      0       4          0    sedan\n"
          ]
        }
      ]
    },
    {
      "cell_type": "code",
      "metadata": {
        "id": "RGJrXkjElwT1"
      },
      "source": [
        "X = df1.drop(['ID','label'], axis=1)\n",
        "y = df1['label']"
      ],
      "execution_count": null,
      "outputs": []
    },
    {
      "cell_type": "code",
      "metadata": {
        "id": "GkUKJ8NQmDp7"
      },
      "source": [
        "import sklearn.model_selection as ms\n",
        "X_train, X_test, y_train, y_test = ms.train_test_split(X,y, test_size=0.2)"
      ],
      "execution_count": null,
      "outputs": []
    },
    {
      "cell_type": "code",
      "metadata": {
        "colab": {
          "base_uri": "https://localhost:8080/"
        },
        "id": "Z9D5Q_kZmgQd",
        "outputId": "2176e0e9-220a-429f-82ef-2af5c80d733b"
      },
      "source": [
        "import sklearn.tree as tree\n",
        "model1 = tree.DecisionTreeClassifier(criterion='entropy', max_depth=5)\n",
        "model1.fit(X_train, y_train)"
      ],
      "execution_count": null,
      "outputs": [
        {
          "output_type": "execute_result",
          "data": {
            "text/plain": [
              "DecisionTreeClassifier(ccp_alpha=0.0, class_weight=None, criterion='entropy',\n",
              "                       max_depth=5, max_features=None, max_leaf_nodes=None,\n",
              "                       min_impurity_decrease=0.0, min_impurity_split=None,\n",
              "                       min_samples_leaf=1, min_samples_split=2,\n",
              "                       min_weight_fraction_leaf=0.0, presort='deprecated',\n",
              "                       random_state=None, splitter='best')"
            ]
          },
          "metadata": {},
          "execution_count": 6
        }
      ]
    },
    {
      "cell_type": "code",
      "metadata": {
        "colab": {
          "base_uri": "https://localhost:8080/"
        },
        "id": "QJ8giRAAm_TG",
        "outputId": "347eec51-53cf-4e04-e460-2bb65ffbf558"
      },
      "source": [
        "y_prediksi = model1.predict(X_test)\n",
        "print(y_prediksi)"
      ],
      "execution_count": null,
      "outputs": [
        {
          "output_type": "stream",
          "name": "stdout",
          "text": [
            "['minibus' 'minibus' 'sedan' 'sedan' 'sedan' 'sedan' 'minibus' 'sedan']\n"
          ]
        }
      ]
    },
    {
      "cell_type": "code",
      "metadata": {
        "colab": {
          "base_uri": "https://localhost:8080/"
        },
        "id": "7GeJnEjNnRwC",
        "outputId": "603a595a-65ac-4ead-a11b-3738f65b2350"
      },
      "source": [
        "import sklearn.metrics as met\n",
        "print(met.accuracy_score(y_test, y_prediksi))"
      ],
      "execution_count": null,
      "outputs": [
        {
          "output_type": "stream",
          "name": "stdout",
          "text": [
            "0.875\n"
          ]
        }
      ]
    },
    {
      "cell_type": "markdown",
      "metadata": {
        "id": "kkVm_df2oAq5"
      },
      "source": [
        "# Menggunakan Gini Index"
      ]
    },
    {
      "cell_type": "code",
      "metadata": {
        "colab": {
          "base_uri": "https://localhost:8080/"
        },
        "id": "i4GRvh1JoJ4t",
        "outputId": "57781fc7-5b6c-4b29-de64-6cdb009efa31"
      },
      "source": [
        "import sklearn.tree as tree\n",
        "model2 = tree.DecisionTreeClassifier(criterion='gini', max_depth=5)\n",
        "model2.fit(X_train, y_train)\n",
        "y_prediksi = model2.predict(X_test)\n",
        "print(y_prediksi)\n",
        "print(met.accuracy_score(y_test, y_prediksi))"
      ],
      "execution_count": null,
      "outputs": [
        {
          "output_type": "stream",
          "name": "stdout",
          "text": [
            "['minibus' 'minibus' 'sedan' 'sedan' 'sedan' 'sedan' 'minibus' 'sedan']\n",
            "0.875\n"
          ]
        }
      ]
    },
    {
      "cell_type": "code",
      "metadata": {
        "colab": {
          "base_uri": "https://localhost:8080/"
        },
        "id": "PMTUnH0do9CI",
        "outputId": "ed0a2353-28e1-46e8-d994-6267d39323bb"
      },
      "source": [
        "# Visualisasi\n",
        "\n",
        "import pydotplus as pp\n",
        "labels = ['mesin','bangku','penggerak']\n",
        "dot_data = tree.export_graphviz(model2, out_file=None, feature_names=labels, filled=True, rounded=True)\n",
        "graph = pp.graph_from_dot_data(dot_data)\n",
        "graph.write_png('decisiontree.png')"
      ],
      "execution_count": null,
      "outputs": [
        {
          "output_type": "execute_result",
          "data": {
            "text/plain": [
              "True"
            ]
          },
          "metadata": {},
          "execution_count": 12
        }
      ]
    },
    {
      "cell_type": "code",
      "metadata": {
        "id": "Hl4-gLn6M-22"
      },
      "source": [
        "import sklearn.ensemble as ens\n",
        "rf = ens.RandomForestClassifier(n_estimators=100)"
      ],
      "execution_count": null,
      "outputs": []
    },
    {
      "cell_type": "code",
      "metadata": {
        "colab": {
          "base_uri": "https://localhost:8080/"
        },
        "id": "j9zbmZA1NNww",
        "outputId": "30b12861-67ed-4ecb-9eda-43ffb530c680"
      },
      "source": [
        "import pandas as pd\n",
        "import sklearn.model_selection as ms\n",
        "df1 = pd.read_csv('/content/gdrive/My Drive/dataset/decisiontree.csv')\n",
        "encoding = {\"mesin\": {\"bensin\": 0, \"diesel\": 1}, \"penggerak\": {\"depan\": 0, \"belakang\": 1}}\n",
        "df1.replace(encoding, inplace=True)\n",
        "print(df1)\n",
        "X = df1.drop(['ID','label'], axis=1)\n",
        "y = df1['label']\n",
        "X_train, X_test, y_train, y_test = ms.train_test_split(X,y, test_size=0.2)"
      ],
      "execution_count": null,
      "outputs": [
        {
          "output_type": "stream",
          "name": "stdout",
          "text": [
            "    ID  mesin  bangku  penggerak    label\n",
            "0    1      0       4          0    sedan\n",
            "1    2      0       2          0    sedan\n",
            "2    3      0       8          1  minibus\n",
            "3    4      1       6          0  minibus\n",
            "4    5      0       5          1  minibus\n",
            "5    6      1       8          1  minibus\n",
            "6    7      1       8          1  minibus\n",
            "7    8      0       4          0    sedan\n",
            "8    9      1       7          1  minibus\n",
            "9   10      0       4          0    sedan\n",
            "10  11      0       2          0    sedan\n",
            "11  12      1       6          1  minibus\n",
            "12  13      1       8          0  minibus\n",
            "13  14      0       4          0    sedan\n",
            "14  15      1       2          0    sedan\n",
            "15  16      0       4          0    sedan\n",
            "16  17      0       8          1  minibus\n",
            "17  18      0       4          0    sedan\n",
            "18  19      1       8          1  minibus\n",
            "19  20      1       8          1  minibus\n",
            "20  21      0       4          0    sedan\n",
            "21  22      0       4          0  minibus\n",
            "22  23      1       8          1  minibus\n",
            "23  24      0       4          0    sedan\n",
            "24  25      0       5          1  minibus\n",
            "25  26      0       4          0  minibus\n",
            "26  27      1       8          1  minibus\n",
            "27  28      0       4          0    sedan\n",
            "28  29      0       7          1  minibus\n",
            "29  30      0       4          0    sedan\n",
            "30  31      0       4          0    sedan\n",
            "31  32      0       2          0    sedan\n",
            "32  33      0       8          1  minibus\n",
            "33  34      1       6          0  minibus\n",
            "34  35      0       5          1  minibus\n",
            "35  36      1       8          1  minibus\n",
            "36  37      1       4          1  minibus\n",
            "37  38      0       4          0    sedan\n",
            "38  39      1       5          1  minibus\n",
            "39  40      0       4          0    sedan\n"
          ]
        }
      ]
    },
    {
      "cell_type": "code",
      "metadata": {
        "colab": {
          "base_uri": "https://localhost:8080/"
        },
        "id": "2BW26oosObgI",
        "outputId": "91a7bd17-ae05-4638-bb88-505fcd757e15"
      },
      "source": [
        "rf.fit(X_train, y_train)\n",
        "print(rf)"
      ],
      "execution_count": null,
      "outputs": [
        {
          "output_type": "stream",
          "name": "stdout",
          "text": [
            "RandomForestClassifier(bootstrap=True, ccp_alpha=0.0, class_weight=None,\n",
            "                       criterion='gini', max_depth=None, max_features='auto',\n",
            "                       max_leaf_nodes=None, max_samples=None,\n",
            "                       min_impurity_decrease=0.0, min_impurity_split=None,\n",
            "                       min_samples_leaf=1, min_samples_split=2,\n",
            "                       min_weight_fraction_leaf=0.0, n_estimators=100,\n",
            "                       n_jobs=None, oob_score=False, random_state=None,\n",
            "                       verbose=0, warm_start=False)\n"
          ]
        }
      ]
    },
    {
      "cell_type": "code",
      "metadata": {
        "id": "-vSwooGkOzUg"
      },
      "source": [
        "y_prediksi = rf.predict(X_test)"
      ],
      "execution_count": null,
      "outputs": []
    },
    {
      "cell_type": "code",
      "metadata": {
        "colab": {
          "base_uri": "https://localhost:8080/"
        },
        "id": "5FcYpIS1O7lR",
        "outputId": "5bab13c5-bbe0-4b19-d33d-de0a78bb378b"
      },
      "source": [
        "import sklearn.metrics as met\n",
        "akurasi = met.accuracy_score(y_test, y_prediksi)\n",
        "print(akurasi)"
      ],
      "execution_count": null,
      "outputs": [
        {
          "output_type": "stream",
          "name": "stdout",
          "text": [
            "1.0\n"
          ]
        }
      ]
    },
    {
      "cell_type": "code",
      "metadata": {
        "colab": {
          "base_uri": "https://localhost:8080/"
        },
        "id": "J94SHIY8PUya",
        "outputId": "1308b6e0-af3a-4414-dc6b-93c09f1aa3c8"
      },
      "source": [
        "score = rf.feature_importances_\n",
        "print(score)"
      ],
      "execution_count": null,
      "outputs": [
        {
          "output_type": "stream",
          "name": "stdout",
          "text": [
            "[0.15353126 0.50414108 0.34232766]\n"
          ]
        }
      ]
    }
  ]
}